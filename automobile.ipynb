{
  "cells": [
    {
      "cell_type": "markdown",
      "metadata": {
        "id": "view-in-github",
        "colab_type": "text"
      },
      "source": [
        "<a href=\"https://colab.research.google.com/github/saicharan7479/pytorch-notes/blob/main/automobile.ipynb\" target=\"_parent\"><img src=\"https://colab.research.google.com/assets/colab-badge.svg\" alt=\"Open In Colab\"/></a>"
      ]
    },
    {
      "cell_type": "code",
      "execution_count": 1,
      "metadata": {
        "id": "dvKSkkI1Nozb"
      },
      "outputs": [],
      "source": [
        "# Car price predictor by using machine learning\n",
        "import torch\n",
        "import torch.nn as nn\n",
        "import pandas as pd\n",
        "import numpy as np"
      ]
    },
    {
      "cell_type": "code",
      "execution_count": 2,
      "metadata": {
        "id": "yyVLExlWQQvk"
      },
      "outputs": [],
      "source": [
        "# Define column names for the automobile dataset\n",
        "#In the csv file there are no column names i restored from chat gpt\n",
        "column_names = [\n",
        "    'symboling', 'normalized-losses', 'make', 'fuel-type', 'aspiration',\n",
        "    'num-of-doors', 'body-style', 'drive-wheels', 'engine-location',\n",
        "    'wheel-base', 'length', 'width', 'height', 'curb-weight',\n",
        "    'engine-type', 'num-of-cylinders', 'engine-size', 'fuel-system',\n",
        "    'bore', 'stroke', 'compression-ratio', 'horsepower', 'peak-rpm',\n",
        "    'city-mpg', 'highway-mpg', 'price'\n",
        "]"
      ]
    },
    {
      "cell_type": "code",
      "execution_count": 3,
      "metadata": {
        "id": "SnGk0g7VQV3O"
      },
      "outputs": [],
      "source": [
        "df = pd.read_csv(\"https://archive.ics.uci.edu/ml/machine-learning-databases/autos/imports-85.data\",\n",
        "                 names=column_names, na_values='?')"
      ]
    },
    {
      "cell_type": "code",
      "execution_count": 4,
      "metadata": {
        "id": "U6nuD-WcQYzH"
      },
      "outputs": [],
      "source": [
        "\n",
        "#In the csv file there are no column names i restored from chat gpt\n",
        "# Convert numeric columns to proper data types\n",
        "numeric_columns = ['normalized-losses', 'wheel-base', 'length', 'width', 'height',\n",
        "                   'curb-weight', 'engine-size', 'bore', 'stroke', 'compression-ratio',\n",
        "                   'horsepower', 'peak-rpm', 'city-mpg', 'highway-mpg', 'price']\n"
      ]
    },
    {
      "cell_type": "code",
      "execution_count": 5,
      "metadata": {
        "id": "MBweHkU3Qcy0"
      },
      "outputs": [],
      "source": [
        "for col in numeric_columns:\n",
        "    df[col] = pd.to_numeric(df[col], errors='coerce')"
      ]
    },
    {
      "cell_type": "code",
      "execution_count": 6,
      "metadata": {
        "id": "UQ272Ks1Qfvj"
      },
      "outputs": [],
      "source": [
        "# removing null values\n",
        "df = df.dropna()"
      ]
    },
    {
      "cell_type": "code",
      "execution_count": 7,
      "metadata": {
        "id": "HsBcG_LeQjF7"
      },
      "outputs": [],
      "source": [
        "# Select features for prediction - using important car specifications\n",
        "X = df[[\"engine-size\", \"horsepower\", \"curb-weight\", \"city-mpg\"]].values\n",
        "y = df[[\"price\"]].values"
      ]
    },
    {
      "cell_type": "code",
      "execution_count": 8,
      "metadata": {
        "id": "sVnlWwQhQlhm"
      },
      "outputs": [],
      "source": [
        "# Manual normalization (Min-Max)\n",
        "X_min = X.min(axis=0)\n",
        "X_max = X.max(axis=0)"
      ]
    },
    {
      "cell_type": "code",
      "execution_count": 9,
      "metadata": {
        "id": "5vc1Mm1yQnvF"
      },
      "outputs": [],
      "source": [
        "# got error here so used normalization, here the colab itself recommended this thing, it basically sort things from top to bottom\n",
        "X_scaled = (X - X_min) / (X_max - X_min)"
      ]
    },
    {
      "cell_type": "code",
      "execution_count": 10,
      "metadata": {
        "id": "40lzBbneQqqz"
      },
      "outputs": [],
      "source": [
        "# converting into tensors\n",
        "X_tensor = torch.tensor(X_scaled,\n",
        "                        dtype=torch.float32)  # we take this here as float32 because X is like tensor it gives us long or float 64 we need to convert into float 32\n",
        "y_tensor = torch.tensor(y, dtype=torch.float32)"
      ]
    },
    {
      "cell_type": "code",
      "execution_count": 11,
      "metadata": {
        "id": "chRonCCHQwe5"
      },
      "outputs": [],
      "source": [
        "# splitting into 80 20 80-training 20-testing\n",
        "split_index = int(0.8 * len(X_tensor))\n",
        "X_train = X_tensor[:split_index]\n",
        "X_test = X_tensor[split_index:]\n",
        "y_min, y_max = y.min(), y.max()\n",
        "y_train = y_tensor[:split_index]\n",
        "y_test = y_tensor[split_index:]"
      ]
    },
    {
      "cell_type": "code",
      "execution_count": 12,
      "metadata": {
        "id": "jLL-XNxWQxrr"
      },
      "outputs": [],
      "source": [
        "# Define model\n",
        "class CarPricePredictor(nn.Module):\n",
        "    def __init__(self):\n",
        "        super(CarPricePredictor, self).__init__()\n",
        "        self.model = nn.Sequential(\n",
        "            nn.Linear(4, 64),\n",
        "            nn.ReLU(),\n",
        "            nn.Linear(64, 32),\n",
        "            nn.ReLU(),\n",
        "            nn.Linear(32, 1),\n",
        "          )\n",
        "\n",
        "    def forward(self, x):\n",
        "        return self.model(x)"
      ]
    },
    {
      "cell_type": "code",
      "execution_count": 13,
      "metadata": {
        "id": "sWp4mOFVQ01k"
      },
      "outputs": [],
      "source": [
        "model = CarPricePredictor()"
      ]
    },
    {
      "cell_type": "code",
      "execution_count": 14,
      "metadata": {
        "id": "HYhme8C0Q270"
      },
      "outputs": [],
      "source": [
        "# Loss function or criterion and optimizer\n",
        "criterion =(nn.SmoothL1Loss())\n",
        "optimizer = torch.optim.Adam(model.parameters(), lr=.01)#lr means learning rate"
      ]
    },
    {
      "cell_type": "code",
      "execution_count": 15,
      "metadata": {
        "colab": {
          "base_uri": "https://localhost:8080/"
        },
        "id": "t55Ez4LOQ5cJ",
        "outputId": "3f1b1610-76a1-450d-d0d3-058c97a42218"
      },
      "outputs": [
        {
          "output_type": "stream",
          "name": "stdout",
          "text": [
            "Epoch 50 - Train Loss: 10559.1680, Val Loss: 12928.1172\n",
            "Epoch 100 - Train Loss: 5516.3945, Val Loss: 7147.0244\n",
            "Epoch 150 - Train Loss: 2777.1370, Val Loss: 3096.5161\n",
            "Epoch 200 - Train Loss: 2379.4817, Val Loss: 2605.7593\n",
            "Epoch 250 - Train Loss: 2086.6260, Val Loss: 2168.2329\n",
            "Epoch 300 - Train Loss: 1906.0265, Val Loss: 2087.0225\n"
          ]
        }
      ],
      "source": [
        "for epoch in range(300):\n",
        "    model.train()\n",
        "    optimizer.zero_grad()\n",
        "    output = model(X_train) # code generated by chatgpt\n",
        "    loss = criterion(output, y_train)\n",
        "    loss.backward()\n",
        "    optimizer.step()\n",
        "\n",
        "    if (epoch + 1) % 50 == 0:\n",
        "        model.eval()\n",
        "        with torch.inference_mode():\n",
        "            val_output = model(X_test)\n",
        "            val_loss = criterion(val_output, y_test)\n",
        "        print(f\"Epoch {epoch+1} - Train Loss: {loss.item():.4f}, Val Loss: {val_loss.item():.4f}\")"
      ]
    },
    {
      "cell_type": "code",
      "execution_count": 16,
      "metadata": {
        "colab": {
          "base_uri": "https://localhost:8080/"
        },
        "id": "MKLZDICAQ9gk",
        "outputId": "5d70ce41-bcbb-4353-f060-7539902c59ec"
      },
      "outputs": [
        {
          "output_type": "stream",
          "name": "stdout",
          "text": [
            "Predicted: 12897.12 | Actual: 9639.00\n",
            "Predicted: 12942.09 | Actual: 9989.00\n",
            "Predicted: 13325.87 | Actual: 11199.00\n",
            "Predicted: 13430.81 | Actual: 11549.00\n",
            "Predicted: 14213.36 | Actual: 17669.00\n"
          ]
        }
      ],
      "source": [
        "# Evaluation\n",
        "model.eval()  # this will stop training then it starts predicting\n",
        "with torch.inference_mode():  # start predicting\n",
        "    predictions = model(X_test)\n",
        "    for i in range(5):\n",
        "        actual = y_test[i].item()\n",
        "        predicted = predictions[i].item()\n",
        "        print(f\"Predicted: {predicted:.2f} | Actual: {actual:.2f}\")"
      ]
    },
    {
      "cell_type": "code",
      "execution_count": 19,
      "metadata": {
        "colab": {
          "base_uri": "https://localhost:8080/"
        },
        "id": "bhPD3ooWbELe",
        "outputId": "b380efe4-a9d7-4a82-8b4f-4bb34536f7ae"
      },
      "outputs": [
        {
          "output_type": "stream",
          "name": "stdout",
          "text": [
            "\n",
            "Mean Absolute Percentage Error (MAPE): 14.27%\n"
          ]
        }
      ],
      "source": [
        "mape = torch.mean(torch.abs((y_test - predictions) / y_test)) * 100\n",
        "print(f\"\\nMean Absolute Percentage Error (MAPE): {mape.item():.2f}%\")"
      ]
    }
  ],
  "metadata": {
    "colab": {
      "provenance": [],
      "authorship_tag": "ABX9TyOi1OHGTCmQlT43l0MZnyx4",
      "include_colab_link": true
    },
    "kernelspec": {
      "display_name": "Python 3",
      "name": "python3"
    },
    "language_info": {
      "name": "python"
    }
  },
  "nbformat": 4,
  "nbformat_minor": 0
}